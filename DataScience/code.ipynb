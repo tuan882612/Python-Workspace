{
 "cells": [
  {
   "cell_type": "code",
   "execution_count": 18,
   "metadata": {},
   "outputs": [
    {
     "data": {
      "text/plain": [
       "array([[ 53,  89,  19],\n",
       "       [  6,  59,  -9],\n",
       "       [  3, -10,  94],\n",
       "       [ 24,  10,  93],\n",
       "       [ 70,  21,  96],\n",
       "       [ 15,  47,   5],\n",
       "       [ 40,  56,  89],\n",
       "       [ 93,  50,  12],\n",
       "       [ 88,  84,  65],\n",
       "       [  0,  19,  23]])"
      ]
     },
     "execution_count": 18,
     "metadata": {},
     "output_type": "execute_result"
    }
   ],
   "source": [
    "#Data Science\n",
    "import numpy as np\n",
    "import pandas as pd\n",
    "import matplotlib.pyplot as plt\n",
    "\n",
    "nums = np.array([[ 53,  89,  19,   6,  59,  -9],\n",
    "                [  3, -10,  94,  24,  10,  93],\n",
    "                [ 70,  21,  96,  15,  47,   5],\n",
    "                [ 40,  56,  89,  93,  50,  12],\n",
    "                [ 88,  84,  65,   0,  19,  23],\n",
    "                [ 89,   5,  -2,  41,  14,  86]])\n",
    "nums[:5, :6,].reshape(10,3)"
   ]
  },
  {
   "cell_type": "code",
   "execution_count": 1,
   "metadata": {},
   "outputs": [
    {
     "name": "stdout",
     "output_type": "stream",
     "text": [
      "array([[ 53,  89,  19,   6,  59,  -9],\n",
      "       [  3, -10,  94,  24,  10,  93],\n",
      "       [ 70,  21,  96,  15,  47,   5],\n",
      "       [ 40,  56,  89,  93,  50,  12],\n",
      "       [ 88,  84,  65,   0,  19,  23],\n",
      "       [ 89,   5,  -2,  41,  14,  86]])\n"
     ]
    }
   ],
   "source": [
    "#matrix generator\n",
    "import numpy as np\n",
    "n = np.random.randint(3,11)\n",
    "print(repr(np.random.randint(-10,101,(n,n))))"
   ]
  }
 ],
 "metadata": {
  "interpreter": {
   "hash": "db8571aa039289c2baf725c4990b1e3667d13566d3766fd92e65fec930ed0c19"
  },
  "kernelspec": {
   "display_name": "Python 3.10.0 64-bit ('pythonProject': conda)",
   "language": "python",
   "name": "python3"
  },
  "language_info": {
   "codemirror_mode": {
    "name": "ipython",
    "version": 3
   },
   "file_extension": ".py",
   "mimetype": "text/x-python",
   "name": "python",
   "nbconvert_exporter": "python",
   "pygments_lexer": "ipython3",
   "version": "3.9.7"
  },
  "orig_nbformat": 4
 },
 "nbformat": 4,
 "nbformat_minor": 2
}

{
 "cells": [
  {
   "cell_type": "code",
   "execution_count": 2,
   "metadata": {},
   "outputs": [
    {
     "name": "stdout",
     "output_type": "stream",
     "text": [
      "weight     0\n",
      "length1    0\n",
      "length2    0\n",
      "length3    0\n",
      "height     0\n",
      "width      0\n",
      "dtype: int64\n"
     ]
    }
   ],
   "source": [
    "import numpy as np\n",
    "import pandas as pd\n",
    "import matplotlib.pyplot as plt\n",
    "from sklearn import metrics\n",
    "from sklearn import linear_model\n",
    "from sklearn.model_selection import train_test_split\n",
    "\n",
    "df = pd.read_csv(\"fish.csv\")\n",
    "del df['species']\n",
    "df\n",
    "print(df.isna().sum())"
   ]
  },
  {
   "cell_type": "code",
   "execution_count": 3,
   "metadata": {},
   "outputs": [
    {
     "name": "stdout",
     "output_type": "stream",
     "text": [
      "[181.38735682 264.0931268   12.38194751]\n",
      "0.8703515062337182\n"
     ]
    }
   ],
   "source": [
    "# Objective: predict the weight based on the fish's size\n",
    "\n",
    "target = 'weight'\n",
    "x = np.array(df.drop(target, axis=1))\n",
    "y = np.array(df[target])\n",
    "x_train, x_test, y_train, y_test = train_test_split(x, y, test_size=.3, random_state=1000, shuffle=True)\n",
    "model = linear_model.LinearRegression()\n",
    "model.fit(x_train, y_train)\n",
    "to_predict = np.array([[24,25,35,12,4],\n",
    "                       [15,14,16,10,5],\n",
    "                       [20,16,30,12,2]])\n",
    "predictions = model.predict(to_predict)\n",
    "print(predictions)\n",
    "print(model.score(x_test, y_test))"
   ]
  }
 ],
 "metadata": {
  "interpreter": {
   "hash": "764a74f76e782fb4de2d483858180df7a1fdcc6083b2e486dba82562d4cf0784"
  },
  "kernelspec": {
   "display_name": "Python 3.9.7 64-bit ('base': conda)",
   "language": "python",
   "name": "python3"
  },
  "language_info": {
   "codemirror_mode": {
    "name": "ipython",
    "version": 3
   },
   "file_extension": ".py",
   "mimetype": "text/x-python",
   "name": "python",
   "nbconvert_exporter": "python",
   "pygments_lexer": "ipython3",
   "version": "3.9.7"
  },
  "orig_nbformat": 4
 },
 "nbformat": 4,
 "nbformat_minor": 2
}

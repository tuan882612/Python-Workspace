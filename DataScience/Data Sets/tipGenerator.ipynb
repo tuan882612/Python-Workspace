{
 "cells": [
  {
   "cell_type": "code",
   "execution_count": 1,
   "metadata": {},
   "outputs": [
    {
     "name": "stdout",
     "output_type": "stream",
     "text": [
      "model coefficent [[0.11335886]]\n",
      "model intercept [0.74914413]\n",
      "[[3.80983323]\n",
      " [5.1701395 ]\n",
      " [3.01632124]]\n",
      "0.7357854720288839\n",
      "0.4777505643172877\n"
     ]
    },
    {
     "data": {
      "text/plain": [
       "<matplotlib.collections.PathCollection at 0x17dddbccdf0>"
      ]
     },
     "execution_count": 1,
     "metadata": {},
     "output_type": "execute_result"
    },
    {
     "data": {
      "image/png": "[encoded data removed]",
      "text/plain": [
       "<Figure size 432x288 with 1 Axes>"
      ]
     },
     "metadata": {
      "needs_background": "light"
     },
     "output_type": "display_data"
    }
   ],
   "source": [
    "import numpy as np\n",
    "import pandas as pd\n",
    "import seaborn as sns\n",
    "import matplotlib.pyplot as plt\n",
    "import sklearn.preprocessing as skp\n",
    "from sklearn import metrics\n",
    "from sklearn import linear_model\n",
    "from sklearn.model_selection import train_test_split\n",
    "\n",
    "df = pd.read_csv(\"tips.csv\")\n",
    "data = df[['total_bill','tip']]\n",
    "x = np.array(data[['total_bill']])\n",
    "y = np.array(data[['tip']])\n",
    "input_data = np.array([[27],\n",
    "                       [39],\n",
    "                       [20]])\n",
    "x_train, x_test, y_train, y_test = train_test_split(x, y, test_size=0.3, random_state=10, shuffle=True)\n",
    "\n",
    "model = linear_model.LinearRegression()\n",
    "model.fit(x_train,y_train)\n",
    "print(\"model coefficent\",model.coef_)\n",
    "print(\"model intercept\",model.intercept_)\n",
    "\n",
    "tip_prediction = model.predict(input_data)\n",
    "print(tip_prediction)\n",
    "prediction = model.predict(x_test)\n",
    "print(metrics.mean_absolute_error(y_test, prediction))\n",
    "r2 = model.score(x_train, y_train)\n",
    "print(r2)\n",
    "plt.xlabel('total bill')\n",
    "plt.ylabel('tip')\n",
    "plt.scatter(x_test, y_test, color = 'red')"
   ]
  }
 ],
 "metadata": {
  "interpreter": {
   "hash": "764a74f76e782fb4de2d483858180df7a1fdcc6083b2e486dba82562d4cf0784"
  },
  "kernelspec": {
   "display_name": "Python 3.9.7 64-bit ('base': conda)",
   "language": "python",
   "name": "python3"
  },
  "language_info": {
   "codemirror_mode": {
    "name": "ipython",
    "version": 3
   },
   "file_extension": ".py",
   "mimetype": "text/x-python",
   "name": "python",
   "nbconvert_exporter": "python",
   "pygments_lexer": "ipython3",
   "version": "3.9.7"
  },
  "orig_nbformat": 4
 },
 "nbformat": 4,
 "nbformat_minor": 2
}
